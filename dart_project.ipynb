{
 "cells": [
  {
   "cell_type": "code",
   "execution_count": 35,
   "id": "0fee4e74",
   "metadata": {},
   "outputs": [
    {
     "data": {
      "text/html": [
       "\n",
       "    <style scoped>\n",
       "        .dart-table tbody tr th {\n",
       "            vertical-align: top;\n",
       "            text-overflow: ellipsis;\n",
       "        }\n",
       "        .dart-table thead th {\n",
       "            text-align: right;\n",
       "            text-overflow: ellipsis;\n",
       "        }\n",
       "    </style>\n",
       "    <table border=\"1\" class=\"dart-table\"><thead><tr style=\"text-align: right;\"><th>Label</th><th>Data</th></tr></thead><tbody><tr><th>corp_code</th><td>00126380</td></tr><tr><th>corp_name</th><td>삼성전자</td></tr><tr><th>corp_eng_name</th><td>SAMSUNG ELECTRONICS CO,.LTD</td></tr><tr><th>stock_code</th><td>005930</td></tr><tr><th>modify_date</th><td>20250326</td></tr><tr><th>sector</th><td>통신 및 방송 장비 제조업</td></tr><tr><th>product</th><td>통신 및 방송 장비 제조(무선) 제품, 반도체 제조(메모리) 제품,  전자부품 제조(디스플레이) 제품, 영상 및 음향기기 제조(영상기기) 제품 등</td></tr><tr><th>corp_cls</th><td>Y</td></tr></tbody></table>"
      ],
      "text/plain": [
       "[00126380]삼성전자"
      ]
     },
     "execution_count": 35,
     "metadata": {},
     "output_type": "execute_result"
    }
   ],
   "source": [
    "from tqdm import tqdm\n",
    "from dart_fss import get_corp_list\n",
    "from dotenv import load_dotenv\n",
    "from sklearn.preprocessing import StandardScaler\n",
    "import dart_fss as dart\n",
    "import pandas as pd\n",
    "import numpy as np\n",
    "\n",
    "import seaborn as sns\n",
    "import matplotlib.pyplot as plt\n",
    "\n",
    "import requests\n",
    "import json\n",
    "import os\n",
    "import time\n",
    "\n",
    "load_dotenv()\n",
    "\n",
    "API_KEY = os.getenv(\"API_KEY\")\n",
    "\n",
    "dart.set_api_key(api_key=API_KEY)\n",
    "\n",
    "# 모든 상장된 기업 리스트 불러오기\n",
    "corp_list = get_corp_list()\n",
    "\n",
    "\n",
    "# 삼성전자를 이름으로 찾기 ( 리스트 반환 )\n",
    "samsung = corp_list.find_by_corp_name('삼성전자', exactly=True)[0]\n",
    "samsung"
   ]
  },
  {
   "cell_type": "code",
   "execution_count": 20,
   "id": "9031a58a",
   "metadata": {},
   "outputs": [
    {
     "name": "stdout",
     "output_type": "stream",
     "text": [
      "도매및소매업 172개 기업 목록을 리스트로 저장했습니다.\n"
     ]
    },
    {
     "name": "stderr",
     "output_type": "stream",
     "text": [
      "c:\\Users\\82107\\AppData\\Local\\Programs\\Python\\Python313\\Lib\\site-packages\\openpyxl\\styles\\stylesheet.py:237: UserWarning: Workbook contains no default style, apply openpyxl's default\n",
      "  warn(\"Workbook contains no default style, apply openpyxl's default\")\n",
      "c:\\Users\\82107\\AppData\\Local\\Programs\\Python\\Python313\\Lib\\site-packages\\openpyxl\\styles\\stylesheet.py:237: UserWarning: Workbook contains no default style, apply openpyxl's default\n",
      "  warn(\"Workbook contains no default style, apply openpyxl's default\")\n"
     ]
    }
   ],
   "source": [
    "industry = \"도매및소매업\" \n",
    "\n",
    "df_kospi = pd.read_excel(f\"업종별_기업리스트/{industry}_KOSPI.xlsx\")\n",
    "df_kosdaq = pd.read_excel(f\"업종별_기업리스트/{industry}_KOSDAQ.xlsx\")\n",
    "\n",
    "df_total = pd.concat([df_kospi, df_kosdaq], ignore_index=True)\n",
    "df_total = df_total.drop_duplicates()\n",
    "df_total[\"업종구분\"] = industry\n",
    "\n",
    "corp_name_list = list(df_total[\"회사명\"])\n",
    "print(f\"{industry} {len(corp_name_list)}개 기업 목록을 리스트로 저장했습니다.\")\n",
    "# corp_name_list"
   ]
  },
  {
   "cell_type": "code",
   "execution_count": 21,
   "id": "75ad0dfa",
   "metadata": {},
   "outputs": [
    {
     "name": "stdout",
     "output_type": "stream",
     "text": [
      "회사는 총 172개입니다.\n"
     ]
    }
   ],
   "source": [
    "target_ratio = [\n",
    "    \"자기자본비율\", \"부채비율\", \"유동비율\", \"유동부채비율\", \"비유동부채비율\", \"비유동비율\", \"금융비용부담률\",\n",
    "    \"자본유보율\", \"재무레버리지\", \"비유동적합률\", \"비유동자산구성비율\", \"유형자산구성비율\", \"유동자산구성비율\", \n",
    "    \"재고자산구성비율\", \"유동자산/비유동자산비율\", \"재고자산/유동자산비율\", # 안정성지표\n",
    "]\n",
    "\n",
    "idx_cl_code_dict = {\n",
    "    # \"M210000\": \"수익성지표\",\n",
    "    \"M220000\": \"안정성지표\",\n",
    "    # \"M230000\": \"성장성지표\",\n",
    "    # \"M240000\": \"활동성지표\"\n",
    "}\n",
    "\n",
    "corp_name_dict = {}\n",
    "\n",
    "for corp in corp_name_list:\n",
    "    name = corp_list.find_by_corp_name(corp, exactly=True)\n",
    "    if name:\n",
    "        corp_code = str(name[0])[1:9]\n",
    "    else:\n",
    "        print(f\"{corp}(은)는 다중회사가 아니므로 건너뜁니다.\")\n",
    "        continue\n",
    "    corp_name_dict[f\"{corp}\"] = corp_code\n",
    "    # print(f\"{corp}의 회사 이름과 고유번호를 딕셔너리에 추가했습니다.\")\n",
    "\n",
    "print(f\"회사는 총 {len(corp_name_dict)}개입니다.\")\n",
    "# print(f\"회사명&고유번호 딕셔너리:\\n{corp_name_dict}\")\n",
    "\n",
    "# 기업별 종합 row\n",
    "corp_data_dict = {}"
   ]
  },
  {
   "cell_type": "code",
   "execution_count": 24,
   "id": "b2dc01d9",
   "metadata": {},
   "outputs": [
    {
     "name": "stdout",
     "output_type": "stream",
     "text": [
      "=== 안정성지표 요청 중 ===\n"
     ]
    },
    {
     "name": "stderr",
     "output_type": "stream",
     "text": [
      "안정성지표 수집 중: 100%|██████████| 172/172 [01:08<00:00,  2.51개/s]\n"
     ]
    }
   ],
   "source": [
    "# --- API 요청 URL 및 파라미터 ---\n",
    "for idx_cl_code, 지표분류 in idx_cl_code_dict.items():\n",
    "\n",
    "    tqdm.write(f\"=== {지표분류} 요청 중 ===\")\n",
    "\n",
    "    for corp_name, corp_code in tqdm(corp_name_dict.items(), desc=f\"{지표분류} 수집 중\", unit=\"개\"):\n",
    "        base_url = \"https://opendart.fss.or.kr/api/fnlttCmpnyIndx.json\"\n",
    "        params = {\n",
    "            'crtfc_key': API_KEY,\n",
    "            'corp_code': corp_code, # 대상 기업 코드\n",
    "            'bsns_year': \"2024\", # 회계연도\n",
    "            'reprt_code': \"11011\", # 사업보고서\n",
    "            'idx_cl_code': idx_cl_code,\n",
    "        }\n",
    "\n",
    "        # --- GET 요청 보내기 ---\n",
    "        try:\n",
    "            response = requests.get(base_url, params=params)\n",
    "            \n",
    "            # --- 응답 확인 ---\n",
    "            # HTTP 상태 코드가 200 (OK)인지 확인\n",
    "            if response.status_code == 200:\n",
    "                # print(response.text) 분석&코드 작성 시 사용\n",
    "                \n",
    "                data = json.loads(response.text)\n",
    "\n",
    "                # 한 기업 당 하나의 행 생성\n",
    "                if corp_name not in corp_data_dict:\n",
    "                    corp_data_dict[corp_name] = {\n",
    "                        \"기업명\": corp_name,\n",
    "                    }\n",
    "\n",
    "                for item in data.get(\"list\", []):\n",
    "                    idx_nm = item.get(\"idx_nm\")\n",
    "                    if idx_nm in target_ratio:\n",
    "                        corp_data_dict[corp_name][idx_nm] = item.get(\"idx_val\")\n",
    "                \n",
    "            else:\n",
    "                tqdm.write(f\"HTTP 오류 {response.status_code} - {corp_name}\")\n",
    "\n",
    "            time.sleep(0.3)\n",
    "\n",
    "        except requests.exceptions.RequestException as e:\n",
    "            tqdm.write(f\"{corp_name} 요청 중 에러 발생: {e}\")"
   ]
  },
  {
   "cell_type": "code",
   "execution_count": 25,
   "id": "c121d967",
   "metadata": {},
   "outputs": [],
   "source": [
    "# DataFrame 생성\n",
    "df = pd.DataFrame(list(corp_data_dict.values()))\n",
    "\n",
    "# CSV 저장\n",
    "df.to_csv(\"주요지표.csv\", index=False, encoding='utf-8-sig')"
   ]
  },
  {
   "cell_type": "code",
   "execution_count": 39,
   "id": "c047ce7b",
   "metadata": {},
   "outputs": [
    {
     "name": "stdout",
     "output_type": "stream",
     "text": [
      "원본 행 개수: 172\n",
      "필터링 후 행 개수: 149\n"
     ]
    }
   ],
   "source": [
    "df = pd.read_csv(\"주요지표.csv\")\n",
    "\n",
    "filtered_df = df.dropna(subset=target_ratio, how='all')\n",
    "\n",
    "print(f\"원본 행 개수: {len(df)}\")\n",
    "print(f\"필터링 후 행 개수: {len(filtered_df)}\")\n",
    "\n",
    "filtered_df.to_csv(\"주요지표_누락처리.csv\", index=False, encoding='utf-8-sig')"
   ]
  },
  {
   "cell_type": "code",
   "execution_count": null,
   "id": "9152b2e5",
   "metadata": {},
   "outputs": [
    {
     "name": "stdout",
     "output_type": "stream",
     "text": [
      "자본유보율 평균: 1554.9254038461538\n",
      "GS리테일 자본유보율: 4417.948\n",
      "Z-score (수식 기반): 1.4584973944221031\n",
      "기업명              object\n",
      "자기자본비율          float64\n",
      "부채비율            float64\n",
      "유동비율            float64\n",
      "유동부채비율          float64\n",
      "비유동부채비율         float64\n",
      "비유동비율           float64\n",
      "금융비용부담률         float64\n",
      "자본유보율           float64\n",
      "재무레버리지          float64\n",
      "비유동적합률          float64\n",
      "비유동자산구성비율       float64\n",
      "유형자산구성비율        float64\n",
      "유동자산구성비율        float64\n",
      "재고자산구성비율        float64\n",
      "유동자산/비유동자산비율    float64\n",
      "재고자산/유동자산비율     float64\n",
      "dtype: object\n"
     ]
    }
   ],
   "source": [
    "z_df = filtered_df.copy()\n",
    "\n",
    "for col in target_ratio:\n",
    "    z_df[col] = (\n",
    "        z_df[col]\n",
    "        .astype(str)\n",
    "        .str.replace(\",\", \"\")   # 쉼표 제거\n",
    "        .str.replace(\"%\", \"\")   # 퍼센트 제거\n",
    "        .replace(\"None\", np.nan)\n",
    "        .replace(\"\", np.nan)\n",
    "        .astype(float)\n",
    "    )\n",
    "\n",
    "mean_val = z_df[\"자본유보율\"].mean()\n",
    "print(f\"자본유보율 평균: {mean_val}\")\n",
    "\n",
    "# GS리테일의 값 확인\n",
    "gs_val = z_df.loc[z_df[\"기업명\"] == \"GS리테일\", \"자본유보율\"].values[0]\n",
    "print(f\"GS리테일 자본유보율: {gs_val}\")\n",
    "\n",
    "# 수식으로 Z-score 직접 계산\n",
    "z_score = (gs_val - mean_val) / z_df[\"자본유보율\"].std()\n",
    "print(f\"Z-score (수식 기반): {z_score}\")\n",
    "\n",
    "print(z_df.dtypes)"
   ]
  },
  {
   "cell_type": "code",
   "execution_count": 88,
   "id": "f9beeedb",
   "metadata": {},
   "outputs": [],
   "source": [
    "scaler = StandardScaler()\n",
    "z_scaled = scaler.fit_transform(z_df[target_ratio])\n",
    "\n",
    "# 다시 DataFrame으로 변환\n",
    "z_scaled_df = pd.DataFrame(z_scaled, columns=target_ratio, index=z_df.index)\n",
    "z_scaled_df = z_scaled_df.fillna(0)\n",
    "z_scaled_df[\"기업명\"] = filtered_df.loc[z_df.index, \"기업명\"].values\n",
    "z_scaled_df.to_csv(\"주요지표_Z.csv\", index=False, encoding='utf-8-sig')"
   ]
  },
  {
   "cell_type": "code",
   "execution_count": null,
   "id": "309aafc1",
   "metadata": {},
   "outputs": [],
   "source": []
  }
 ],
 "metadata": {
  "kernelspec": {
   "display_name": "Python 3",
   "language": "python",
   "name": "python3"
  },
  "language_info": {
   "codemirror_mode": {
    "name": "ipython",
    "version": 3
   },
   "file_extension": ".py",
   "mimetype": "text/x-python",
   "name": "python",
   "nbconvert_exporter": "python",
   "pygments_lexer": "ipython3",
   "version": "3.13.0"
  }
 },
 "nbformat": 4,
 "nbformat_minor": 5
}
