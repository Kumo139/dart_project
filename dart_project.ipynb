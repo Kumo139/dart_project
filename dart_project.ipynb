{
 "cells": [
  {
   "cell_type": "code",
   "execution_count": 55,
   "id": "0fee4e74",
   "metadata": {},
   "outputs": [
    {
     "data": {
      "text/html": [
       "\n",
       "    <style scoped>\n",
       "        .dart-table tbody tr th {\n",
       "            vertical-align: top;\n",
       "            text-overflow: ellipsis;\n",
       "        }\n",
       "        .dart-table thead th {\n",
       "            text-align: right;\n",
       "            text-overflow: ellipsis;\n",
       "        }\n",
       "    </style>\n",
       "    <table border=\"1\" class=\"dart-table\"><thead><tr style=\"text-align: right;\"><th>Label</th><th>Data</th></tr></thead><tbody><tr><th>corp_code</th><td>00126380</td></tr><tr><th>corp_name</th><td>삼성전자</td></tr><tr><th>corp_eng_name</th><td>SAMSUNG ELECTRONICS CO,.LTD</td></tr><tr><th>stock_code</th><td>005930</td></tr><tr><th>modify_date</th><td>20250326</td></tr><tr><th>sector</th><td>통신 및 방송 장비 제조업</td></tr><tr><th>product</th><td>통신 및 방송 장비 제조(무선) 제품, 반도체 제조(메모리) 제품,  전자부품 제조(디스플레이) 제품, 영상 및 음향기기 제조(영상기기) 제품 등</td></tr><tr><th>corp_cls</th><td>Y</td></tr></tbody></table>"
      ],
      "text/plain": [
       "[00126380]삼성전자"
      ]
     },
     "execution_count": 55,
     "metadata": {},
     "output_type": "execute_result"
    }
   ],
   "source": [
    "from dart_fss import get_corp_list\n",
    "from dotenv import load_dotenv\n",
    "import dart_fss as dart\n",
    "import pandas as pd\n",
    "import requests\n",
    "import json\n",
    "import os\n",
    "import time\n",
    "\n",
    "def get_keys_by_value(d, target_value): # 딕셔너리에서 value로 key값 출력하는 함수\n",
    "    return [k for k, v in d.items() if v == target_value]\n",
    "\n",
    "load_dotenv()\n",
    "\n",
    "API_KEY = os.getenv(\"API_KEY\")\n",
    "\n",
    "dart.set_api_key(api_key=API_KEY)\n",
    "\n",
    "# 모든 상장된 기업 리스트 불러오기\n",
    "corp_list = get_corp_list()\n",
    "\n",
    "\n",
    "# 삼성전자를 이름으로 찾기 ( 리스트 반환 )\n",
    "samsung = corp_list.find_by_corp_name('삼성전자', exactly=True)[0]\n",
    "samsung"
   ]
  },
  {
   "cell_type": "code",
   "execution_count": 64,
   "id": "98ecc020",
   "metadata": {},
   "outputs": [
    {
     "name": "stdout",
     "output_type": "stream",
     "text": [
      "삼성전자의 회사 이름과 고유번호를 딕셔너리에 추가했습니다.\n",
      "LG전자의 회사 이름과 고유번호를 딕셔너리에 추가했습니다.\n",
      "에코프로의 회사 이름과 고유번호를 딕셔너리에 추가했습니다.\n",
      "현대중공업(은)는 다중회사가 아니므로 건너뜁니다.\n",
      "현대자동차의 회사 이름과 고유번호를 딕셔너리에 추가했습니다.\n",
      "회사명&고유번호 딕셔너리: {'삼성전자': '00126380', 'LG전자': '00401731', '에코프로': '00536541', '현대자동차': '00164742'}\n"
     ]
    }
   ],
   "source": [
    "corp_list.find_by_corp_name('삼성전자')\n",
    "corp_name_list = [\"삼성전자\", \"LG전자\", \"에코프로\", \"현대중공업\", \"현대자동차\"]\n",
    "target_accounts = [\"유동자산\", \"비유동자산\", \"자산총계\", \"부채총계\"]\n",
    "\n",
    "corp_name_dict = {}\n",
    "\n",
    "for corp in corp_name_list:\n",
    "    name = corp_list.find_by_corp_name(corp, exactly=True)\n",
    "    if name:\n",
    "        corp_code = str(name[0])[1:9]\n",
    "    else:\n",
    "        print(f\"{corp}(은)는 다중회사가 아니므로 건너뜁니다.\")\n",
    "        continue\n",
    "    corp_name_dict[f\"{corp}\"] = corp_code\n",
    "    print(f\"{corp}의 회사 이름과 고유번호를 딕셔너리에 추가했습니다.\")\n",
    "\n",
    "print(f\"회사명&고유번호 딕셔너리: {corp_name_dict}\")\n",
    "\n",
    "# 저장할 데이터를 리스트 형태로 정리\n",
    "rows = []"
   ]
  },
  {
   "cell_type": "code",
   "execution_count": 66,
   "id": "5a3e08a1",
   "metadata": {},
   "outputs": [
    {
     "name": "stdout",
     "output_type": "stream",
     "text": [
      "요청 성공!\n",
      "삼성전자의 주요계정을 DataFrame에 추가했습니다.\n",
      "요청 성공!\n",
      "LG전자의 주요계정을 DataFrame에 추가했습니다.\n",
      "요청 성공!\n",
      "에코프로의 주요계정을 DataFrame에 추가했습니다.\n",
      "요청 성공!\n",
      "현대자동차의 주요계정을 DataFrame에 추가했습니다.\n"
     ]
    }
   ],
   "source": [
    "# --- API 요청 URL 및 파라미터 ---\n",
    "for corp_name, corp_code in corp_name_dict.items():\n",
    "    base_url = \"https://opendart.fss.or.kr/api/fnlttMultiAcnt.json\"\n",
    "    params = {\n",
    "        'crtfc_key': API_KEY,\n",
    "        'corp_code': corp_code, # 대상 기업 코드\n",
    "        'bsns_year': \"2024\", # 회계연도\n",
    "        'reprt_code': \"11011\", # 사업보고서\n",
    "    }\n",
    "\n",
    "    # --- GET 요청 보내기 ---\n",
    "    try:\n",
    "        response = requests.get(base_url, params=params)\n",
    "        \n",
    "        # --- 응답 확인 ---\n",
    "        # HTTP 상태 코드가 200 (OK)인지 확인\n",
    "        if response.status_code == 200:\n",
    "            print(\"요청 성공!\")\n",
    "\n",
    "            # Requests 형식을 json으로 변환\n",
    "            data = json.loads(response.text)\n",
    "\n",
    "            for item in data.get(\"list\", []):\n",
    "                account_nm = item.get(\"account_nm\")\n",
    "                if account_nm in target_accounts:\n",
    "                    row = {\n",
    "                        \"기업명\": corp_name,\n",
    "                        \"기업고유번호\": corp_code,\n",
    "                        \"계정명\": account_nm,\n",
    "                        \"당기명\": item.get(\"thstrm_nm\"),\n",
    "                        \"당기일자\": item.get(\"thstrm_dt\"),\n",
    "                        \"당기금액\": item.get(\"thstrm_amount\"),\n",
    "                        \"전기명\": item.get(\"frmtrm_nm\"),\n",
    "                        \"전기일자\": item.get(\"frmtrm_dt\"),\n",
    "                        \"전기금액\": item.get(\"frmtrm_amount\"),\n",
    "                        \"전전기명\": item.get(\"bfefrmtrm_nm\"),\n",
    "                        \"전전기일자\": item.get(\"bfefrmtrm_dt\"),\n",
    "                        \"전전기금액\": item.get(\"bfefrmtrm_amount\"),\n",
    "                        \"공시번호\": item.get(\"rcept_no\"),\n",
    "                        \"재무제표종류\": item.get(\"fs_nm\"),\n",
    "                        \"재무제표명\": item.get(\"sj_nm\")\n",
    "                    }\n",
    "                    rows.append(row)\n",
    "            print(f\"{corp_name}의 주요계정을 DataFrame에 추가했습니다.\")\n",
    "        else:\n",
    "            print(f\"에러 발생: HTTP 상태 코드 {response.status_code}\")\n",
    "\n",
    "        time.sleep(0.3)\n",
    "\n",
    "    except requests.exceptions.RequestException as e:\n",
    "        print(f\"요청 중 에러 발생: {e}\")"
   ]
  },
  {
   "cell_type": "code",
   "execution_count": 71,
   "id": "bcfcda9f",
   "metadata": {},
   "outputs": [],
   "source": [
    "# DataFrame 생성\n",
    "df = pd.DataFrame(rows)\n",
    "\n",
    "# CSV 저장\n",
    "# df.to_csv(\"계정별_재무데이터.csv\", index=False, encoding='utf-8-sig')"
   ]
  },
  {
   "cell_type": "code",
   "execution_count": 69,
   "id": "b2dc01d9",
   "metadata": {},
   "outputs": [
    {
     "name": "stdout",
     "output_type": "stream",
     "text": [
      "요청 성공!\n"
     ]
    }
   ],
   "source": [
    "\n",
    "# --- API 요청 URL 및 파라미터 ---\n",
    "base_url_1 = \"https://opendart.fss.or.kr/api/fnlttCmpnyIndx.json\"\n",
    "params = {\n",
    "    'crtfc_key': API_KEY,\n",
    "    'corp_code': corp_code, # 대상 기업 코드\n",
    "    'bsns_year': \"2024\", # 회계연도\n",
    "    'reprt_code': \"11011\", # 사업보고서\n",
    "    'idx_cl_code': \"M220000\" # 수익성지표 : M210000 안정성지표 : M220000 성장성지표 : M230000 활동성지표 : M240000\n",
    "}\n",
    "\n",
    "# --- GET 요청 보내기 ---\n",
    "try:\n",
    "    response_1 = requests.get(base_url_1, params=params)\n",
    "    \n",
    "    # --- 응답 확인 ---\n",
    "    # HTTP 상태 코드가 200 (OK)인지 확인\n",
    "    if response_1.status_code == 200:\n",
    "        # XML 형식의 응답 내용을 출력\n",
    "        print(\"요청 성공!\")\n",
    "        # print(response_1.text) 분석&코드 작성 시 사용\n",
    "    else:\n",
    "        print(f\"에러 발생: HTTP 상태 코드 {response_1.status_code}\")\n",
    "\n",
    "except requests.exceptions.RequestException as e:\n",
    "    print(f\"요청 중 에러 발생: {e}\")"
   ]
  },
  {
   "cell_type": "code",
   "execution_count": 70,
   "id": "c121d967",
   "metadata": {},
   "outputs": [
    {
     "data": {
      "text/html": [
       "<div>\n",
       "<style scoped>\n",
       "    .dataframe tbody tr th:only-of-type {\n",
       "        vertical-align: middle;\n",
       "    }\n",
       "\n",
       "    .dataframe tbody tr th {\n",
       "        vertical-align: top;\n",
       "    }\n",
       "\n",
       "    .dataframe thead th {\n",
       "        text-align: right;\n",
       "    }\n",
       "</style>\n",
       "<table border=\"1\" class=\"dataframe\">\n",
       "  <thead>\n",
       "    <tr style=\"text-align: right;\">\n",
       "      <th></th>\n",
       "      <th>사업연도</th>\n",
       "      <th>결산기준일</th>\n",
       "      <th>지표명</th>\n",
       "      <th>지표값</th>\n",
       "    </tr>\n",
       "  </thead>\n",
       "  <tbody>\n",
       "    <tr>\n",
       "      <th>0</th>\n",
       "      <td>2024</td>\n",
       "      <td>2024-12-31</td>\n",
       "      <td>자기자본비율</td>\n",
       "      <td>35.396</td>\n",
       "    </tr>\n",
       "    <tr>\n",
       "      <th>1</th>\n",
       "      <td>2024</td>\n",
       "      <td>2024-12-31</td>\n",
       "      <td>부채비율</td>\n",
       "      <td>182.516</td>\n",
       "    </tr>\n",
       "    <tr>\n",
       "      <th>2</th>\n",
       "      <td>2024</td>\n",
       "      <td>2024-12-31</td>\n",
       "      <td>유동비율</td>\n",
       "      <td>145.598</td>\n",
       "    </tr>\n",
       "    <tr>\n",
       "      <th>3</th>\n",
       "      <td>2024</td>\n",
       "      <td>2024-12-31</td>\n",
       "      <td>당좌비율</td>\n",
       "      <td>None</td>\n",
       "    </tr>\n",
       "    <tr>\n",
       "      <th>4</th>\n",
       "      <td>2024</td>\n",
       "      <td>2024-12-31</td>\n",
       "      <td>유동부채비율</td>\n",
       "      <td>66.106</td>\n",
       "    </tr>\n",
       "    <tr>\n",
       "      <th>5</th>\n",
       "      <td>2024</td>\n",
       "      <td>2024-12-31</td>\n",
       "      <td>이자보상배율</td>\n",
       "      <td>None</td>\n",
       "    </tr>\n",
       "  </tbody>\n",
       "</table>\n",
       "</div>"
      ],
      "text/plain": [
       "   사업연도       결산기준일     지표명      지표값\n",
       "0  2024  2024-12-31  자기자본비율   35.396\n",
       "1  2024  2024-12-31    부채비율  182.516\n",
       "2  2024  2024-12-31    유동비율  145.598\n",
       "3  2024  2024-12-31    당좌비율     None\n",
       "4  2024  2024-12-31  유동부채비율   66.106\n",
       "5  2024  2024-12-31  이자보상배율     None"
      ]
     },
     "execution_count": 70,
     "metadata": {},
     "output_type": "execute_result"
    }
   ],
   "source": [
    "data = json.loads(response_1.text)\n",
    "\n",
    "# 저장할 데이터를 리스트 형태로 정리\n",
    "rows = []\n",
    "\n",
    "target_ratio = [\"자기자본비율\", \"부채비율\", \"유동비율\", \"당좌비율\", \"유동부채비율\", \"이자보상배율\"]\n",
    "\n",
    "for item in data.get(\"list\", []):\n",
    "    idx_nm = item.get(\"idx_nm\")\n",
    "    if idx_nm in target_ratio:\n",
    "        row = {\n",
    "            \"사업연도\": item.get(\"bsns_year\"),\n",
    "            \"결산기준일\": item.get(\"stlm_dt\"),\n",
    "            \"지표명\": item.get(\"idx_nm\"),\n",
    "            \"지표값\": item.get(\"idx_val\"),\n",
    "        }\n",
    "        rows.append(row)\n",
    "\n",
    "# DataFrame 생성\n",
    "df = pd.DataFrame(rows)\n",
    "df\n",
    "\n",
    "# CSV 저장\n",
    "# df.to_csv(\"주요지표.csv\", index=False, encoding='utf-8-sig')"
   ]
  },
  {
   "cell_type": "code",
   "execution_count": null,
   "id": "c047ce7b",
   "metadata": {},
   "outputs": [],
   "source": []
  }
 ],
 "metadata": {
  "kernelspec": {
   "display_name": "Python 3",
   "language": "python",
   "name": "python3"
  },
  "language_info": {
   "codemirror_mode": {
    "name": "ipython",
    "version": 3
   },
   "file_extension": ".py",
   "mimetype": "text/x-python",
   "name": "python",
   "nbconvert_exporter": "python",
   "pygments_lexer": "ipython3",
   "version": "3.13.0"
  }
 },
 "nbformat": 4,
 "nbformat_minor": 5
}
