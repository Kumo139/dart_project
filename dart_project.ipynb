{
 "cells": [
  {
   "cell_type": "code",
   "execution_count": 57,
   "id": "0fee4e74",
   "metadata": {},
   "outputs": [
    {
     "data": {
      "text/html": [
       "\n",
       "    <style scoped>\n",
       "        .dart-table tbody tr th {\n",
       "            vertical-align: top;\n",
       "            text-overflow: ellipsis;\n",
       "        }\n",
       "        .dart-table thead th {\n",
       "            text-align: right;\n",
       "            text-overflow: ellipsis;\n",
       "        }\n",
       "    </style>\n",
       "    <table border=\"1\" class=\"dart-table\"><thead><tr style=\"text-align: right;\"><th>Label</th><th>Data</th></tr></thead><tbody><tr><th>corp_code</th><td>00126380</td></tr><tr><th>corp_name</th><td>삼성전자</td></tr><tr><th>corp_eng_name</th><td>SAMSUNG ELECTRONICS CO,.LTD</td></tr><tr><th>stock_code</th><td>005930</td></tr><tr><th>modify_date</th><td>20250326</td></tr><tr><th>sector</th><td>통신 및 방송 장비 제조업</td></tr><tr><th>product</th><td>통신 및 방송 장비 제조(무선) 제품, 반도체 제조(메모리) 제품,  전자부품 제조(디스플레이) 제품, 영상 및 음향기기 제조(영상기기) 제품 등</td></tr><tr><th>corp_cls</th><td>Y</td></tr></tbody></table>"
      ],
      "text/plain": [
       "[00126380]삼성전자"
      ]
     },
     "execution_count": 57,
     "metadata": {},
     "output_type": "execute_result"
    }
   ],
   "source": [
    "from tqdm import tqdm\n",
    "from dart_fss import get_corp_list\n",
    "from dotenv import load_dotenv\n",
    "from sklearn.preprocessing import StandardScaler\n",
    "import dart_fss as dart\n",
    "import pandas as pd\n",
    "import numpy as np\n",
    "\n",
    "import seaborn as sns\n",
    "import matplotlib.pyplot as plt\n",
    "\n",
    "import requests\n",
    "import json\n",
    "import os\n",
    "import time\n",
    "\n",
    "load_dotenv()\n",
    "\n",
    "API_KEY = os.getenv(\"API_KEY\")\n",
    "\n",
    "dart.set_api_key(api_key=API_KEY)\n",
    "\n",
    "# 모든 상장된 기업 리스트 불러오기\n",
    "corp_list = get_corp_list()\n",
    "\n",
    "\n",
    "# 삼성전자를 이름으로 찾기 ( 리스트 반환 )\n",
    "samsung = corp_list.find_by_corp_name('삼성전자', exactly=True)[0]\n",
    "samsung"
   ]
  },
  {
   "cell_type": "code",
   "execution_count": 58,
   "id": "9031a58a",
   "metadata": {},
   "outputs": [
    {
     "name": "stdout",
     "output_type": "stream",
     "text": [
      "도매및소매업 172개 기업 목록을 리스트로 저장했습니다.\n"
     ]
    },
    {
     "name": "stderr",
     "output_type": "stream",
     "text": [
      "c:\\Users\\82107\\AppData\\Local\\Programs\\Python\\Python313\\Lib\\site-packages\\openpyxl\\styles\\stylesheet.py:237: UserWarning: Workbook contains no default style, apply openpyxl's default\n",
      "  warn(\"Workbook contains no default style, apply openpyxl's default\")\n",
      "c:\\Users\\82107\\AppData\\Local\\Programs\\Python\\Python313\\Lib\\site-packages\\openpyxl\\styles\\stylesheet.py:237: UserWarning: Workbook contains no default style, apply openpyxl's default\n",
      "  warn(\"Workbook contains no default style, apply openpyxl's default\")\n"
     ]
    }
   ],
   "source": [
    "industry = \"도매및소매업\" \n",
    "\n",
    "df_kospi = pd.read_excel(f\"업종별_기업리스트/{industry}_KOSPI.xlsx\")\n",
    "df_kosdaq = pd.read_excel(f\"업종별_기업리스트/{industry}_KOSDAQ.xlsx\")\n",
    "\n",
    "df_total = pd.concat([df_kospi, df_kosdaq], ignore_index=True)\n",
    "df_total = df_total.drop_duplicates()\n",
    "df_total[\"업종구분\"] = industry\n",
    "\n",
    "corp_name_list = list(df_total[\"회사명\"])\n",
    "print(f\"{industry} {len(corp_name_list)}개 기업 목록을 리스트로 저장했습니다.\")\n",
    "# corp_name_list"
   ]
  },
  {
   "cell_type": "code",
   "execution_count": 59,
   "id": "75ad0dfa",
   "metadata": {},
   "outputs": [
    {
     "name": "stdout",
     "output_type": "stream",
     "text": [
      "회사는 총 172개입니다.\n"
     ]
    }
   ],
   "source": [
    "target_ratio = [\n",
    "    \"자기자본비율\", \"부채비율\", \"유동비율\", \"유동부채비율\", \"비유동부채비율\", \"비유동비율\", \"금융비용부담률\",\n",
    "    \"재무레버리지\", \"비유동적합률\", \"비유동자산구성비율\", \"유형자산구성비율\", \"유동자산구성비율\", \n",
    "    \"재고자산구성비율\", \"유동자산/비유동자산비율\", \"재고자산/유동자산비율\", # 안정성지표\n",
    "]\n",
    "\n",
    "idx_cl_code_dict = {\n",
    "    # \"M210000\": \"수익성지표\",\n",
    "    \"M220000\": \"안정성지표\",\n",
    "    # \"M230000\": \"성장성지표\",\n",
    "    # \"M240000\": \"활동성지표\"\n",
    "}\n",
    "\n",
    "corp_name_dict = {}\n",
    "\n",
    "for corp in corp_name_list:\n",
    "    name = corp_list.find_by_corp_name(corp, exactly=True)\n",
    "    if name:\n",
    "        corp_code = str(name[0])[1:9]\n",
    "    else:\n",
    "        print(f\"{corp}(은)는 다중회사가 아니므로 건너뜁니다.\")\n",
    "        continue\n",
    "    corp_name_dict[f\"{corp}\"] = corp_code\n",
    "    # print(f\"{corp}의 회사 이름과 고유번호를 딕셔너리에 추가했습니다.\")\n",
    "\n",
    "print(f\"회사는 총 {len(corp_name_dict)}개입니다.\")\n",
    "# print(f\"회사명&고유번호 딕셔너리:\\n{corp_name_dict}\")\n",
    "\n",
    "# 기업별 종합 row\n",
    "corp_data_dict = {}"
   ]
  },
  {
   "cell_type": "code",
   "execution_count": 61,
   "id": "b2dc01d9",
   "metadata": {},
   "outputs": [
    {
     "name": "stdout",
     "output_type": "stream",
     "text": [
      "=== 안정성지표 요청 중 ===\n"
     ]
    },
    {
     "name": "stderr",
     "output_type": "stream",
     "text": [
      "안정성지표 수집 중: 100%|██████████| 172/172 [01:12<00:00,  2.36개/s]\n"
     ]
    }
   ],
   "source": [
    "# --- API 요청 URL 및 파라미터 ---\n",
    "for idx_cl_code, 지표분류 in idx_cl_code_dict.items():\n",
    "\n",
    "    tqdm.write(f\"=== {지표분류} 요청 중 ===\")\n",
    "\n",
    "    for corp_name, corp_code in tqdm(corp_name_dict.items(), desc=f\"{지표분류} 수집 중\", unit=\"개\"):\n",
    "        base_url = \"https://opendart.fss.or.kr/api/fnlttCmpnyIndx.json\"\n",
    "        params = {\n",
    "            'crtfc_key': API_KEY,\n",
    "            'corp_code': corp_code, # 대상 기업 코드\n",
    "            'bsns_year': \"2024\", # 회계연도\n",
    "            'reprt_code': \"11011\", # 사업보고서\n",
    "            'idx_cl_code': idx_cl_code,\n",
    "        }\n",
    "\n",
    "        # --- GET 요청 보내기 ---\n",
    "        try:\n",
    "            response = requests.get(base_url, params=params)\n",
    "            \n",
    "            # --- 응답 확인 ---\n",
    "            # HTTP 상태 코드가 200 (OK)인지 확인\n",
    "            if response.status_code == 200:\n",
    "                # print(response.text) 분석&코드 작성 시 사용\n",
    "                \n",
    "                data = json.loads(response.text)\n",
    "\n",
    "                # 한 기업 당 하나의 행 생성\n",
    "                if corp_name not in corp_data_dict:\n",
    "                    corp_data_dict[corp_name] = {\n",
    "                        \"기업명\": corp_name,\n",
    "                    }\n",
    "\n",
    "                for item in data.get(\"list\", []):\n",
    "                    idx_nm = item.get(\"idx_nm\")\n",
    "                    if idx_nm in target_ratio:\n",
    "                        corp_data_dict[corp_name][idx_nm] = item.get(\"idx_val\")\n",
    "                \n",
    "            else:\n",
    "                tqdm.write(f\"HTTP 오류 {response.status_code} - {corp_name}\")\n",
    "\n",
    "            time.sleep(0.3)\n",
    "\n",
    "        except requests.exceptions.RequestException as e:\n",
    "            tqdm.write(f\"{corp_name} 요청 중 에러 발생: {e}\")"
   ]
  },
  {
   "cell_type": "code",
   "execution_count": 62,
   "id": "c121d967",
   "metadata": {},
   "outputs": [],
   "source": [
    "# DataFrame 생성\n",
    "df = pd.DataFrame(list(corp_data_dict.values()))\n",
    "\n",
    "# CSV 저장\n",
    "df.to_csv(\"주요지표.csv\", index=False, encoding='utf-8-sig')"
   ]
  },
  {
   "cell_type": "code",
   "execution_count": 63,
   "id": "c047ce7b",
   "metadata": {},
   "outputs": [
    {
     "name": "stdout",
     "output_type": "stream",
     "text": [
      "원본 행 개수: 172\n",
      "필터링 후 행 개수: 149\n"
     ]
    }
   ],
   "source": [
    "df = pd.read_csv(\"주요지표.csv\")\n",
    "\n",
    "filtered_df = df.dropna(subset=target_ratio, how='all')\n",
    "\n",
    "print(f\"원본 행 개수: {len(df)}\")\n",
    "print(f\"필터링 후 행 개수: {len(filtered_df)}\")\n",
    "\n",
    "filtered_df.to_csv(\"주요지표_누락처리.csv\", index=False, encoding='utf-8-sig')"
   ]
  },
  {
   "cell_type": "code",
   "execution_count": 64,
   "id": "9152b2e5",
   "metadata": {},
   "outputs": [
    {
     "name": "stdout",
     "output_type": "stream",
     "text": [
      "유동부채비율 평균: 109.48652348993289\n",
      "GS리테일 유동부채비율: 109.461\n",
      "Z-score (수식 기반): -7.026601059083769e-05\n",
      "기업명              object\n",
      "자기자본비율          float64\n",
      "부채비율            float64\n",
      "유동비율            float64\n",
      "유동부채비율          float64\n",
      "비유동부채비율         float64\n",
      "비유동비율           float64\n",
      "금융비용부담률         float64\n",
      "재무레버리지          float64\n",
      "비유동적합률          float64\n",
      "비유동자산구성비율       float64\n",
      "유형자산구성비율        float64\n",
      "유동자산구성비율        float64\n",
      "재고자산구성비율        float64\n",
      "유동자산/비유동자산비율    float64\n",
      "재고자산/유동자산비율     float64\n",
      "dtype: object\n"
     ]
    }
   ],
   "source": [
    "z_df = filtered_df.copy()\n",
    "\n",
    "for col in target_ratio:\n",
    "    z_df[col] = (\n",
    "        z_df[col]\n",
    "        .astype(str)\n",
    "        .str.replace(\",\", \"\")   # 쉼표 제거\n",
    "        .str.replace(\"%\", \"\")   # 퍼센트 제거\n",
    "        .replace(\"None\", np.nan)\n",
    "        .replace(\"\", np.nan)\n",
    "        .astype(float)\n",
    "    )\n",
    "\n",
    "mean_val = z_df[\"유동부채비율\"].mean()\n",
    "print(f\"유동부채비율 평균: {mean_val}\")\n",
    "\n",
    "# GS리테일의 값 확인\n",
    "gs_val = z_df.loc[z_df[\"기업명\"] == \"BGF리테일\", \"유동부채비율\"].values[0]\n",
    "print(f\"GS리테일 유동부채비율: {gs_val}\")\n",
    "\n",
    "# 수식으로 Z-score 직접 계산\n",
    "z_score = (gs_val - mean_val) / z_df[\"유동부채비율\"].std()\n",
    "print(f\"Z-score (수식 기반): {z_score}\")\n",
    "\n",
    "print(z_df.dtypes)"
   ]
  },
  {
   "cell_type": "code",
   "execution_count": 65,
   "id": "f9beeedb",
   "metadata": {},
   "outputs": [],
   "source": [
    "scaler = StandardScaler()\n",
    "z_scaled = scaler.fit_transform(z_df[target_ratio])\n",
    "\n",
    "# 다시 DataFrame으로 변환\n",
    "z_scaled_df = pd.DataFrame(z_scaled, columns=target_ratio, index=z_df.index)\n",
    "z_scaled_df = z_scaled_df.fillna(0)\n",
    "z_scaled_df[\"기업명\"] = filtered_df.loc[z_df.index, \"기업명\"].values\n",
    "z_scaled_df.to_csv(\"주요지표_Z.csv\", index=False, encoding='utf-8-sig')"
   ]
  },
  {
   "cell_type": "code",
   "execution_count": 86,
   "id": "309aafc1",
   "metadata": {},
   "outputs": [],
   "source": [
    "reverse_ratio = [\n",
    "    \"부채비율\", \"유동부채비율\", \"비유동부채비율\", \"비유동비율\", \"비유동적합률\",\n",
    "    \"금융비용부담률\", \"재무레버리지\", \"재고자산구성비율\", \"재고자산/유동자산비율\",\n",
    "]\n",
    "\n",
    "for col in reverse_ratio:\n",
    "    z_scaled_df[col] = z_scaled_df[col] * -1\n",
    "\n",
    "scored_df = z_scaled_df[[\"기업명\"]].copy()\n",
    "\n",
    "for col in target_ratio:\n",
    "    scored_df[col + \"_점수\"] = pd.qcut(z_scaled_df[col], q=5, labels=[1, 2, 3, 4, 5]).astype(int)\n",
    "\n",
    "# print(scored_df.head())\n",
    "\n",
    "scored_df.to_csv(\"주요지표_분위점수.csv\", index=False, encoding='utf-8-sig')"
   ]
  },
  {
   "cell_type": "code",
   "execution_count": null,
   "id": "da5b2c12",
   "metadata": {},
   "outputs": [],
   "source": [
    "def score_with_outlier_penalty(series, q_lower=0.01, q_upper=0.95):\n",
    "    \"\"\"\n",
    "    분위 기반 점수화 (1~5점), 다만 극단값(1%미만, 95%초과)은 감점 처리\n",
    "    \"\"\"\n",
    "    # 분위 기준점\n",
    "    lower_bound = series.quantile(q_lower)\n",
    "    upper_bound = series.quantile(q_upper)\n",
    "\n",
    "    # 기본값 (감점)\n",
    "    scores = pd.Series(0, index=series.index)\n",
    "\n",
    "    # 5~95% 구간\n",
    "    mask = (series >= lower_bound) & (series <= upper_bound)\n",
    "\n",
    "    # 분위 나누기\n",
    "    bins = pd.qcut(series[mask], 5, labels=[1, 2, 3, 4, 5], duplicates='drop')\n",
    "\n",
    "    scores.loc[mask] = bins.astype(int)\n",
    "\n",
    "    return scores"
   ]
  },
  {
   "cell_type": "code",
   "execution_count": 118,
   "id": "32f9e95d",
   "metadata": {},
   "outputs": [],
   "source": [
    "def adaptive_score(series_raw, series_z, std_threshold=100, z_thresh=2.5):\n",
    "    \"\"\"\n",
    "    지표별 표준편차에 따라 점수화 방식을 다르게 적용\n",
    "    - 표준편차가 크면 Z-score 기반 극단값 감지 및 점수화\n",
    "    - 작으면 분위수 기반 점수화\n",
    "\n",
    "    - series_raw: 원본 데이터 (filtered_df[col])\n",
    "    - series_z: Z-score로 변환된 데이터 (z_scaled_df[col])\n",
    "    \"\"\"\n",
    "\n",
    "    std = series_raw.std()\n",
    "    scores = pd.Series(0, index=series_raw.index)\n",
    "\n",
    "    # Z-score 방식\n",
    "    if std > std_threshold:\n",
    "\n",
    "        # -z_thresh ~ +z_thresh 안쪽만 정상 구간\n",
    "        mask = (series_z >= -z_thresh) & (series_z <= z_thresh)\n",
    "\n",
    "        # 정상구간에서 분위 점수 (5분위)\n",
    "        try:\n",
    "            bins = pd.qcut(series_z[mask], q=5, labels=[1, 2, 3, 4, 5], duplicates='drop')\n",
    "            scores.loc[mask] = bins.astype(int)\n",
    "        except ValueError:\n",
    "            # unique 값 부족할 경우 중간점수(3) 부여\n",
    "            scores.loc[mask] = 3\n",
    "\n",
    "    # 분위수 방식 (표준편차 작음)\n",
    "    else:\n",
    "        q_low = series_raw.quantile(0.05)\n",
    "        q_high = series_raw.quantile(0.95)\n",
    "        mask = (series_raw >= q_low) & (series_raw <= q_high)\n",
    "\n",
    "        try:\n",
    "            bins = pd.qcut(series_raw[mask], q=5, labels=[1, 2, 3, 4, 5], duplicates='drop')\n",
    "            scores.loc[mask] = bins.astype(int)\n",
    "        except ValueError:\n",
    "            scores.loc[mask] = 3\n",
    "\n",
    "    return scores"
   ]
  },
  {
   "cell_type": "code",
   "execution_count": 119,
   "id": "d6b1e5a0",
   "metadata": {},
   "outputs": [],
   "source": [
    "scored_df_1 = z_scaled_df[[\"기업명\"]].copy()\n",
    "\n",
    "for col in target_ratio:\n",
    "    scored_df_1[col + \"_점수\"] = adaptive_score(filtered_df[col], z_scaled_df[col])\n",
    "\n",
    "scored_df_1.to_csv(\"주요지표_분위점수_극단값.csv\", index=False, encoding='utf-8-sig')"
   ]
  },
  {
   "cell_type": "code",
   "execution_count": 114,
   "id": "c19d5e50",
   "metadata": {},
   "outputs": [
    {
     "name": "stdout",
     "output_type": "stream",
     "text": [
      "자기자본비율 최대값: 1.8488715410502619\n",
      "95% 분위수: 1.5218744213165294\n",
      "상위 5% 기업 수: 8\n",
      "부채비율 최대값: 0.3259103007508309\n",
      "95% 분위수: 0.3070484223007968\n",
      "상위 5% 기업 수: 8\n",
      "유동비율 최대값: 6.483788933146674\n",
      "95% 분위수: 1.2155917842875172\n",
      "상위 5% 기업 수: 8\n",
      "유동부채비율 최대값: 0.29877504973798313\n",
      "95% 분위수: 0.27926396939123355\n",
      "상위 5% 기업 수: 8\n",
      "비유동부채비율 최대값: 0.47545592951012666\n",
      "95% 분위수: 0.46617278766634307\n",
      "상위 5% 기업 수: 8\n",
      "비유동비율 최대값: 0.47673618118777233\n",
      "95% 분위수: 0.4192101750120221\n",
      "상위 5% 기업 수: 8\n",
      "금융비용부담률 최대값: 0.7206085548083414\n",
      "95% 분위수: 0.32345539005389096\n",
      "상위 5% 기업 수: 8\n",
      "재무레버리지 최대값: 0.3259103007508309\n",
      "95% 분위수: 0.3070484223007968\n",
      "상위 5% 기업 수: 8\n",
      "비유동적합률 최대값: 1.5941031477202778\n",
      "95% 분위수: 1.3084460867008678\n",
      "상위 5% 기업 수: 8\n",
      "비유동자산구성비율 최대값: 1.9530056248936205\n",
      "95% 분위수: 1.6512691013554437\n",
      "상위 5% 기업 수: 8\n",
      "유형자산구성비율 최대값: 2.9535779077591933\n",
      "95% 분위수: 2.1082133230044353\n",
      "상위 5% 기업 수: 8\n",
      "유동자산구성비율 최대값: 2.137731821116497\n",
      "95% 분위수: 1.6734900790744285\n",
      "상위 5% 기업 수: 8\n",
      "재고자산구성비율 최대값: 1.167122941605731\n",
      "95% 분위수: 1.0955585576057265\n",
      "상위 5% 기업 수: 8\n",
      "유동자산/비유동자산비율 최대값: 9.769782540130718\n",
      "95% 분위수: 1.2331567929510034\n",
      "상위 5% 기업 수: 8\n",
      "재고자산/유동자산비율 최대값: 1.3911031175839685\n",
      "95% 분위수: 1.2737779754584881\n",
      "상위 5% 기업 수: 8\n"
     ]
    }
   ],
   "source": [
    "# 감점 기업 수 확인\n",
    "for col in target_ratio:\n",
    "    series = z_scaled_df[col]\n",
    "    print(f\"{col} 최대값:\", series.max())\n",
    "    print(\"95% 분위수:\", series.quantile(0.95))\n",
    "    print(\"상위 5% 기업 수:\", (series > series.quantile(0.95)).sum())"
   ]
  },
  {
   "cell_type": "code",
   "execution_count": 113,
   "id": "e8f0b7f9",
   "metadata": {},
   "outputs": [
    {
     "name": "stdout",
     "output_type": "stream",
     "text": [
      "자기자본비율의 표준편차: 21.37540185288671\n",
      "부채비율의 표준편차: 413.4696656863303\n",
      "유동비율의 표준편차: 428.481243251447\n",
      "유동부채비율의 표준편차: 363.2409143236904\n",
      "비유동부채비율의 표준편차: 56.07473857193897\n",
      "비유동비율의 표준편차: 230.30510704313468\n",
      "금융비용부담률의 표준편차: 27.658031233657145\n",
      "재무레버리지의 표준편차: 413.4696656863303\n",
      "비유동적합률의 표준편차: 45.64785050052663\n",
      "비유동자산구성비율의 표준편차: 22.469236380858785\n",
      "유형자산구성비율의 표준편차: 16.37049029727782\n",
      "유동자산구성비율의 표준편차: 22.694240897401816\n",
      "재고자산구성비율의 표준편차: 11.272173952180742\n",
      "유동자산/비유동자산비율의 표준편차: 386.61147480120775\n",
      "재고자산/유동자산비율의 표준편차: 19.884458205295406\n"
     ]
    }
   ],
   "source": [
    "for col in target_ratio:\n",
    "    std = filtered_df[col].std()\n",
    "    print(f\"{col}의 표준편차: {std}\")"
   ]
  },
  {
   "cell_type": "code",
   "execution_count": null,
   "id": "3833ed45",
   "metadata": {},
   "outputs": [],
   "source": []
  }
 ],
 "metadata": {
  "kernelspec": {
   "display_name": "Python 3",
   "language": "python",
   "name": "python3"
  },
  "language_info": {
   "codemirror_mode": {
    "name": "ipython",
    "version": 3
   },
   "file_extension": ".py",
   "mimetype": "text/x-python",
   "name": "python",
   "nbconvert_exporter": "python",
   "pygments_lexer": "ipython3",
   "version": "3.13.0"
  }
 },
 "nbformat": 4,
 "nbformat_minor": 5
}
